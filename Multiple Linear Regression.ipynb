{
 "cells": [
  {
   "cell_type": "markdown",
   "id": "4012d3dc",
   "metadata": {},
   "source": [
    "# Covid-19 data "
   ]
  },
  {
   "cell_type": "markdown",
   "id": "b51e6995",
   "metadata": {},
   "source": [
    "## Importing the relevent libraries"
   ]
  },
  {
   "cell_type": "code",
   "execution_count": 1,
   "id": "715be6cd",
   "metadata": {},
   "outputs": [],
   "source": [
    "import numpy as np\n",
    "import pandas as pd\n",
    "import matplotlib.pyplot as plt"
   ]
  },
  {
   "cell_type": "markdown",
   "id": "4ce4fe8f",
   "metadata": {},
   "source": [
    "## Importing the covid dataset"
   ]
  },
  {
   "cell_type": "code",
   "execution_count": 2,
   "id": "7f4afef0",
   "metadata": {},
   "outputs": [],
   "source": [
    "dataset = pd.read_csv(\"covid_data.csv\")"
   ]
  },
  {
   "cell_type": "code",
   "execution_count": 3,
   "id": "11d39c69",
   "metadata": {},
   "outputs": [
    {
     "data": {
      "text/html": [
       "<div>\n",
       "<style scoped>\n",
       "    .dataframe tbody tr th:only-of-type {\n",
       "        vertical-align: middle;\n",
       "    }\n",
       "\n",
       "    .dataframe tbody tr th {\n",
       "        vertical-align: top;\n",
       "    }\n",
       "\n",
       "    .dataframe thead th {\n",
       "        text-align: right;\n",
       "    }\n",
       "</style>\n",
       "<table border=\"1\" class=\"dataframe\">\n",
       "  <thead>\n",
       "    <tr style=\"text-align: right;\">\n",
       "      <th></th>\n",
       "      <th>age</th>\n",
       "      <th>Body Temp</th>\n",
       "      <th>Chronic Disease</th>\n",
       "      <th>Blood O2 Level in Percentage</th>\n",
       "      <th>Anti Bodies</th>\n",
       "    </tr>\n",
       "  </thead>\n",
       "  <tbody>\n",
       "    <tr>\n",
       "      <th>0</th>\n",
       "      <td>10</td>\n",
       "      <td>Moderate</td>\n",
       "      <td>0</td>\n",
       "      <td>97</td>\n",
       "      <td>127181</td>\n",
       "    </tr>\n",
       "    <tr>\n",
       "      <th>1</th>\n",
       "      <td>80</td>\n",
       "      <td>High</td>\n",
       "      <td>0</td>\n",
       "      <td>92</td>\n",
       "      <td>61004</td>\n",
       "    </tr>\n",
       "    <tr>\n",
       "      <th>2</th>\n",
       "      <td>10</td>\n",
       "      <td>Low</td>\n",
       "      <td>0</td>\n",
       "      <td>97</td>\n",
       "      <td>111911</td>\n",
       "    </tr>\n",
       "    <tr>\n",
       "      <th>3</th>\n",
       "      <td>81</td>\n",
       "      <td>High</td>\n",
       "      <td>4</td>\n",
       "      <td>75</td>\n",
       "      <td>39010</td>\n",
       "    </tr>\n",
       "    <tr>\n",
       "      <th>4</th>\n",
       "      <td>12</td>\n",
       "      <td>Moderate</td>\n",
       "      <td>0</td>\n",
       "      <td>97</td>\n",
       "      <td>110911</td>\n",
       "    </tr>\n",
       "  </tbody>\n",
       "</table>\n",
       "</div>"
      ],
      "text/plain": [
       "   age Body Temp  Chronic Disease  Blood O2 Level in Percentage  Anti Bodies\n",
       "0   10  Moderate                0                            97       127181\n",
       "1   80      High                0                            92        61004\n",
       "2   10       Low                0                            97       111911\n",
       "3   81      High                4                            75        39010\n",
       "4   12  Moderate                0                            97       110911"
      ]
     },
     "execution_count": 3,
     "metadata": {},
     "output_type": "execute_result"
    }
   ],
   "source": [
    "dataset.head()"
   ]
  },
  {
   "cell_type": "code",
   "execution_count": 4,
   "id": "ea845275",
   "metadata": {},
   "outputs": [],
   "source": [
    "X = dataset.iloc[:, :-1].values\n",
    "y = dataset.iloc[:, -1].values"
   ]
  },
  {
   "cell_type": "markdown",
   "id": "82296bc6",
   "metadata": {},
   "source": [
    "## Importing Scikit Learn Library for categorical data"
   ]
  },
  {
   "cell_type": "code",
   "execution_count": 5,
   "id": "a7006a90",
   "metadata": {},
   "outputs": [],
   "source": [
    "from sklearn.compose import ColumnTransformer\n",
    "from sklearn.preprocessing import OneHotEncoder"
   ]
  },
  {
   "cell_type": "markdown",
   "id": "544a1de1",
   "metadata": {},
   "source": [
    "### Encoding the categorical variables"
   ]
  },
  {
   "cell_type": "code",
   "execution_count": 6,
   "id": "2fd66458",
   "metadata": {},
   "outputs": [],
   "source": [
    "ct = ColumnTransformer(transformers = [(\"encoder\", OneHotEncoder(), [1])], remainder = \"passthrough\")\n",
    "X = np.array(ct.fit_transform(X))"
   ]
  },
  {
   "cell_type": "code",
   "execution_count": 7,
   "id": "30f2347c",
   "metadata": {},
   "outputs": [
    {
     "name": "stdout",
     "output_type": "stream",
     "text": [
      "[[0.0 0.0 1.0 10 0 97]\n",
      " [1.0 0.0 0.0 80 0 92]\n",
      " [0.0 1.0 0.0 10 0 97]\n",
      " [1.0 0.0 0.0 81 4 75]\n",
      " [0.0 0.0 1.0 12 0 97]\n",
      " [0.0 1.0 0.0 18 0 66]\n",
      " [0.0 0.0 1.0 13 0 93]\n",
      " [1.0 0.0 0.0 94 4 64]\n",
      " [1.0 0.0 0.0 86 2 76]\n",
      " [0.0 0.0 1.0 20 0 92]\n",
      " [0.0 0.0 1.0 15 0 94]\n",
      " [0.0 0.0 1.0 15 0 92]\n",
      " [0.0 1.0 0.0 16 0 92]\n",
      " [0.0 0.0 1.0 17 0 93]\n",
      " [0.0 0.0 1.0 18 0 93]\n",
      " [0.0 0.0 1.0 19 0 92]\n",
      " [0.0 0.0 1.0 19 0 89]\n",
      " [0.0 0.0 1.0 12 0 97]\n",
      " [0.0 0.0 1.0 20 0 93]\n",
      " [0.0 0.0 1.0 24 0 92]\n",
      " [0.0 0.0 1.0 25 0 93]\n",
      " [1.0 0.0 0.0 59 2 68]\n",
      " [1.0 0.0 0.0 63 1 66]\n",
      " [0.0 0.0 1.0 25 1 62]\n",
      " [1.0 0.0 0.0 26 0 94]\n",
      " [0.0 1.0 0.0 26 0 97]\n",
      " [0.0 0.0 1.0 28 0 99]\n",
      " [1.0 0.0 0.0 59 0 69]\n",
      " [0.0 0.0 1.0 28 0 89]\n",
      " [0.0 0.0 1.0 29 0 93]\n",
      " [0.0 0.0 1.0 48 0 93]\n",
      " [0.0 0.0 1.0 30 0 62]\n",
      " [0.0 0.0 1.0 30 0 86]\n",
      " [0.0 0.0 1.0 32 0 84]\n",
      " [0.0 0.0 1.0 34 1 90]\n",
      " [0.0 0.0 1.0 35 0 89]\n",
      " [1.0 0.0 0.0 50 2 77]\n",
      " [1.0 0.0 0.0 56 2 76]\n",
      " [1.0 0.0 0.0 56 1 77]\n",
      " [1.0 0.0 0.0 36 1 90]\n",
      " [1.0 0.0 0.0 38 2 75]\n",
      " [0.0 0.0 1.0 40 0 90]\n",
      " [1.0 0.0 0.0 40 0 92]\n",
      " [1.0 0.0 0.0 61 2 76]\n",
      " [1.0 0.0 0.0 42 0 92]\n",
      " [1.0 0.0 0.0 46 0 91]\n",
      " [0.0 0.0 1.0 49 0 80]\n",
      " [1.0 0.0 0.0 52 1 80]\n",
      " [0.0 0.0 1.0 32 0 89]\n",
      " [1.0 0.0 0.0 53 1 55]\n",
      " [1.0 0.0 0.0 54 1 70]\n",
      " [1.0 0.0 0.0 90 3 67]\n",
      " [1.0 0.0 0.0 78 2 71]\n",
      " [1.0 0.0 0.0 58 0 70]\n",
      " [1.0 0.0 0.0 60 1 68]\n",
      " [0.0 0.0 1.0 61 0 90]\n",
      " [1.0 0.0 0.0 62 1 68]\n",
      " [1.0 0.0 0.0 86 3 71]\n",
      " [1.0 0.0 0.0 62 2 69]\n",
      " [1.0 0.0 0.0 64 1 73]\n",
      " [1.0 0.0 0.0 68 1 67]\n",
      " [1.0 0.0 0.0 69 0 53]\n",
      " [0.0 0.0 1.0 70 1 88]\n",
      " [1.0 0.0 0.0 74 2 75]\n",
      " [1.0 0.0 0.0 75 1 72]\n",
      " [1.0 0.0 0.0 76 4 80]\n",
      " [0.0 0.0 1.0 35 0 92]\n",
      " [0.0 0.0 1.0 13 0 94]\n",
      " [1.0 0.0 0.0 82 3 73]\n",
      " [1.0 0.0 0.0 84 3 75]]\n"
     ]
    }
   ],
   "source": [
    "print(X)"
   ]
  },
  {
   "cell_type": "markdown",
   "id": "ff4a9617",
   "metadata": {},
   "source": [
    "## Training and Testing the dataset"
   ]
  },
  {
   "cell_type": "markdown",
   "id": "7e825a2c",
   "metadata": {},
   "source": [
    "### Dividing the data in train and test data"
   ]
  },
  {
   "cell_type": "code",
   "execution_count": 8,
   "id": "6439ab31",
   "metadata": {},
   "outputs": [],
   "source": [
    "from sklearn.model_selection import train_test_split\n",
    "X_train, X_test, y_train, y_test = train_test_split(X, y, test_size = 0.4, random_state = 0)"
   ]
  },
  {
   "cell_type": "markdown",
   "id": "c6c8afa3",
   "metadata": {},
   "source": [
    "## Using Linear Regression"
   ]
  },
  {
   "cell_type": "code",
   "execution_count": 9,
   "id": "5bf9700c",
   "metadata": {},
   "outputs": [
    {
     "data": {
      "text/plain": [
       "LinearRegression()"
      ]
     },
     "execution_count": 9,
     "metadata": {},
     "output_type": "execute_result"
    }
   ],
   "source": [
    "from sklearn.linear_model import LinearRegression\n",
    "regressor = LinearRegression()\n",
    "regressor.fit(X_train, y_train)"
   ]
  },
  {
   "cell_type": "markdown",
   "id": "4f67e76b",
   "metadata": {},
   "source": [
    "### Reshaping of the data"
   ]
  },
  {
   "cell_type": "code",
   "execution_count": 10,
   "id": "316afbfb",
   "metadata": {},
   "outputs": [
    {
     "name": "stdout",
     "output_type": "stream",
     "text": [
      "[[ 98523.191  93010.   ]\n",
      " [ 65402.264  66019.   ]\n",
      " [ 91633.957  91019.   ]\n",
      " [ 59006.199  59994.   ]\n",
      " [ 83371.86   83891.   ]\n",
      " [ 37389.494  46016.   ]\n",
      " [ 30993.428  37914.   ]\n",
      " [ 61449.821  62001.   ]\n",
      " [ 88243.989  90001.   ]\n",
      " [ 44653.711  42099.   ]\n",
      " [ 60509.248  61018.   ]\n",
      " [ 94138.001  93091.   ]\n",
      " [ 81045.966  75012.   ]\n",
      " [ 87382.408  88012.   ]\n",
      " [ 89441.362  90015.   ]\n",
      " [ 73918.161  71191.   ]\n",
      " [ 45028.695  42010.   ]\n",
      " [ 64830.56   67019.   ]\n",
      " [ 62066.945  62019.   ]\n",
      " [107662.326 110911.   ]\n",
      " [ 49277.928  39010.   ]\n",
      " [ 66394.372  61082.   ]\n",
      " [110895.003 111911.   ]\n",
      " [ 76026.676  78004.   ]\n",
      " [103591.699 102019.   ]\n",
      " [ 43955.278  39010.   ]\n",
      " [ 61761.269  62019.   ]\n",
      " [ 83187.824  84008.   ]]\n"
     ]
    }
   ],
   "source": [
    "# predicting the test set results\n",
    "y_pred = regressor.predict(X_test)\n",
    "np.set_printoptions(precision = 3)\n",
    "print(np.concatenate((y_pred.reshape(len(y_pred), 1), y_test.reshape(len(y_test), 1)), 1))"
   ]
  },
  {
   "cell_type": "markdown",
   "id": "ed72dd8f",
   "metadata": {},
   "source": [
    "## Plotting the Graph for predicted and test data"
   ]
  },
  {
   "cell_type": "code",
   "execution_count": 11,
   "id": "6f9311be",
   "metadata": {},
   "outputs": [
    {
     "data": {
      "image/png": "[encoded data removed]",
      "text/plain": [
       "<Figure size 432x288 with 1 Axes>"
      ]
     },
     "metadata": {
      "needs_background": "light"
     },
     "output_type": "display_data"
    }
   ],
   "source": [
    "# Visualizing results\n",
    "plt.plot(y_pred)\n",
    "plt.plot(y_test)\n",
    "plt.show()"
   ]
  },
  {
   "cell_type": "markdown",
   "id": "fcc127d1",
   "metadata": {},
   "source": [
    "## Determining difference between Test and Predicted data"
   ]
  },
  {
   "cell_type": "code",
   "execution_count": 12,
   "id": "f3f7c740",
   "metadata": {},
   "outputs": [
    {
     "name": "stdout",
     "output_type": "stream",
     "text": [
      "[ 93010  66019  91019  59994  83891  46016  37914  62001  90001  42099\n",
      "  61018  93091  75012  88012  90015  71191  42010  67019  62019 110911\n",
      "  39010  61082 111911  78004 102019  39010  62019  84008] - [ 98523.191  65402.264  91633.957  59006.199  83371.86   37389.494\n",
      "  30993.428  61449.821  88243.989  44653.711  60509.248  94138.001\n",
      "  81045.966  87382.408  89441.362  73918.161  45028.695  64830.56\n",
      "  62066.945 107662.326  49277.928  66394.372 110895.003  76026.676\n",
      " 103591.699  43955.278  61761.269  83187.824]\n"
     ]
    }
   ],
   "source": [
    "# y_pred = regressor.predict(X_test)\n",
    "\n",
    "print(str(y_test) + \" - \" + str(y_pred))"
   ]
  },
  {
   "cell_type": "code",
   "execution_count": 13,
   "id": "243d0977",
   "metadata": {},
   "outputs": [],
   "source": [
    "regressor_preds = regressor.predict(X_test)"
   ]
  },
  {
   "cell_type": "markdown",
   "id": "340c5237",
   "metadata": {},
   "source": [
    "## Finding accuracy of the trained data using test data"
   ]
  },
  {
   "cell_type": "code",
   "execution_count": 14,
   "id": "c651cba2",
   "metadata": {},
   "outputs": [
    {
     "name": "stdout",
     "output_type": "stream",
     "text": [
      "Test Accuracy 96.92%\n"
     ]
    }
   ],
   "source": [
    "regressor.fit(X_train, y_train)\n",
    "accuracies = {}\n",
    "accuracy = regressor.score(X_test, y_test)*100\n",
    "\n",
    "accuracies[\"Linear Regression\"] = accuracy\n",
    "print(\"Test Accuracy {:.2f}%\".format(accuracy))"
   ]
  },
  {
   "cell_type": "markdown",
   "id": "1e1ea98b",
   "metadata": {},
   "source": [
    "# We have got a trained ML model with accuracy of 96.92%"
   ]
  }
 ],
 "metadata": {
  "kernelspec": {
   "display_name": "Python 3 (ipykernel)",
   "language": "python",
   "name": "python3"
  },
  "language_info": {
   "codemirror_mode": {
    "name": "ipython",
    "version": 3
   },
   "file_extension": ".py",
   "mimetype": "text/x-python",
   "name": "python",
   "nbconvert_exporter": "python",
   "pygments_lexer": "ipython3",
   "version": "3.9.12"
  }
 },
 "nbformat": 4,
 "nbformat_minor": 5
}
